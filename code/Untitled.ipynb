{
 "cells": [
  {
   "cell_type": "code",
   "execution_count": 1,
   "id": "20ff3319-d84a-463a-b30d-f3cb1ffbb6d2",
   "metadata": {},
   "outputs": [
    {
     "ename": "NameError",
     "evalue": "name 'sami69' is not defined",
     "output_type": "error",
     "traceback": [
      "\u001b[0;31m---------------------------------------------------------------------------\u001b[0m",
      "\u001b[0;31mNameError\u001b[0m                                 Traceback (most recent call last)",
      "Cell \u001b[0;32mIn[1], line 1\u001b[0m\n\u001b[0;32m----> 1\u001b[0m \u001b[43msami69\u001b[49m\n",
      "\u001b[0;31mNameError\u001b[0m: name 'sami69' is not defined"
     ]
    }
   ],
   "source": [
    "sami69"
   ]
  },
  {
   "cell_type": "code",
   "execution_count": null,
   "id": "68ca9e36-127f-4de2-bc0c-e30c6d71e9fc",
   "metadata": {},
   "outputs": [],
   "source": [
    "sami69"
   ]
  },
  {
   "cell_type": "code",
   "execution_count": null,
   "id": "d1382406-4f52-4968-a97a-64be7dd04c6a",
   "metadata": {},
   "outputs": [],
   "source": []
  }
 ],
 "metadata": {
  "kernelspec": {
   "display_name": "Python 3 (ipykernel)",
   "language": "python",
   "name": "python3"
  },
  "language_info": {
   "codemirror_mode": {
    "name": "ipython",
    "version": 3
   },
   "file_extension": ".py",
   "mimetype": "text/x-python",
   "name": "python",
   "nbconvert_exporter": "python",
   "pygments_lexer": "ipython3",
   "version": "3.10.13"
  }
 },
 "nbformat": 4,
 "nbformat_minor": 5
}
